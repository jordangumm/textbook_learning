{
 "cells": [
  {
   "cell_type": "markdown",
   "metadata": {},
   "source": [
    "# Biological Sequence Analysis\n",
    "\n",
    "Information on this title: http://www.cambridge.org/9780521620413\n",
    "\n",
    "The following are personal implementations and notes created by Jordan Gumm over the period he studied the material in this book."
   ]
  },
  {
   "cell_type": "markdown",
   "metadata": {},
   "source": [
    "## Chapter 1\n",
    "\n",
    "#### Basic rules in using probabilities"
   ]
  },
  {
   "cell_type": "code",
   "execution_count": 20,
   "metadata": {},
   "outputs": [
    {
     "name": "stdout",
     "output_type": "stream",
     "text": [
      "die probabilities:\n",
      "[0.16666666666666666, 0.16666666666666666, 0.16666666666666666, 0.16666666666666666, 0.16666666666666666, 0.16666666666666666]\n",
      "\n",
      "die sum: 0.9999999999999999\n"
     ]
    }
   ],
   "source": [
    "# Basic results in using probabilities\n",
    "\n",
    "## model: a system that simulates the object under consideration\n",
    "## probabilistic model: a model that produces different outcomes with different probabilities\n",
    "\n",
    "# six-sided die, a familiar probabilistic system with equal probabilities\n",
    "die = [1/6, 1/6, 1/6, 1/6, 1/6, 1/6]\n",
    "\n",
    "# sum of probabilities is required to equal 1\n",
    "print(f'die probabilities:\\n{die}\\n')\n",
    "print(f'die sum: {sum(die)}')\n",
    "\n",
    "# due to limitations of computational float precision the sum of die != 1\n",
    "# however, it is close enough for practical purposes"
   ]
  },
  {
   "cell_type": "code",
   "execution_count": 21,
   "metadata": {},
   "outputs": [
    {
     "name": "stdout",
     "output_type": "stream",
     "text": [
      "probability of rolling a 1, 6, and then 3: 0.463%\n"
     ]
    }
   ],
   "source": [
    "# Model of three consecutive rolls is the product of the probability of individual rolls\n",
    "# e.g. probability of sequence [1, 6, 3]\n",
    "\n",
    "p = die[0] * die[5] * die[2]  # zero-based indexing for 1, 6, and 3\n",
    "print(f'probability of rolling a 1, 6, and then 3: {p*100:.3}%')"
   ]
  },
  {
   "cell_type": "code",
   "execution_count": 31,
   "metadata": {},
   "outputs": [
    {
     "name": "stdout",
     "output_type": "stream",
     "text": [
      "probability of nucleotide sequence ACGCGTC: 0.0061%\n",
      "probability of nucleotide sequence ACGCGTC: 0.0061%\n",
      "probability of nucleotide sequence ACGCGTC: 0.0061%\n"
     ]
    }
   ],
   "source": [
    "# Model of N consecutive nucleotides (random sequence model)\n",
    "# e.g. probability of sequence ACGCGTC\n",
    "\n",
    "nucs = {'A': 1/4, 'C': 1/4, 'G': 1/4, 'T': 1/4}\n",
    "seq = 'ACGCGTC'\n",
    "\n",
    "seq_probs = [nucs[n] for n in seq]\n",
    "\n",
    "# function implementation\n",
    "from typing import List, Optional\n",
    "\n",
    "def product(l: List[float]) -> float:\n",
    "    final: Optional[float] = None\n",
    "    for prob in l:\n",
    "        if final is None:\n",
    "            final = prob\n",
    "            continue\n",
    "        final *= prob\n",
    "    return final\n",
    "\n",
    "p = product(seq_probs)\n",
    "\n",
    "print(f'probability of nucleotide sequence ACGCGTC: {p*100:.3}%')\n",
    "\n",
    "# reduce implementation\n",
    "import operator\n",
    "\n",
    "from functools import reduce\n",
    "\n",
    "p = reduce(operator.mul, seq_probs, 1)\n",
    "\n",
    "print(f'probability of nucleotide sequence ACGCGTC: {p*100:.3}%')\n",
    "\n",
    "\n",
    "# logarithm implementation\n",
    "from math import log, exp\n",
    "\n",
    "p = exp(sum(map(log, seq_probs)))\n",
    "\n",
    "print(f'probability of nucleotide sequence ACGCGTC: {p*100:.3}%')"
   ]
  },
  {
   "cell_type": "code",
   "execution_count": null,
   "metadata": {},
   "outputs": [],
   "source": [
    "# Maximum likelihood estimation\n",
    "# TODO"
   ]
  }
 ],
 "metadata": {
  "kernelspec": {
   "display_name": "Python 3",
   "language": "python",
   "name": "python3"
  },
  "language_info": {
   "codemirror_mode": {
    "name": "ipython",
    "version": 3
   },
   "file_extension": ".py",
   "mimetype": "text/x-python",
   "name": "python",
   "nbconvert_exporter": "python",
   "pygments_lexer": "ipython3",
   "version": "3.7.6"
  }
 },
 "nbformat": 4,
 "nbformat_minor": 4
}
